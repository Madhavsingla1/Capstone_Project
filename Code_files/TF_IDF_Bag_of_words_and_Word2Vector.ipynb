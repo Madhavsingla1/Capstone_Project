{
  "cells": [
    {
      "cell_type": "markdown",
      "metadata": {
        "id": "view-in-github",
        "colab_type": "text"
      },
      "source": [
        "<a href=\"https://colab.research.google.com/github/Madhavsingla1/Capstone_Project/blob/main/TF_IDF_Bag_of_words_and_Word2Vector.ipynb\" target=\"_parent\"><img src=\"https://colab.research.google.com/assets/colab-badge.svg\" alt=\"Open In Colab\"/></a>"
      ]
    },
    {
      "cell_type": "code",
      "execution_count": null,
      "metadata": {
        "colab": {
          "base_uri": "https://localhost:8080/"
        },
        "id": "pQJsXb2merHT",
        "outputId": "697f7f71-33df-4cbd-8a1a-ab94cc9f9de0"
      },
      "outputs": [
        {
          "output_type": "stream",
          "name": "stderr",
          "text": [
            "[nltk_data] Downloading package stopwords to /root/nltk_data...\n",
            "[nltk_data]   Unzipping corpora/stopwords.zip.\n"
          ]
        }
      ],
      "source": [
        "import pandas as pd\n",
        "import matplotlib.pyplot as plt\n",
        "import re\n",
        "import time\n",
        "import warnings\n",
        "import numpy as np\n",
        "from nltk.corpus import stopwords\n",
        "from sklearn.preprocessing import normalize\n",
        "from sklearn.feature_extraction.text import CountVectorizer\n",
        "from sklearn.feature_extraction.text import TfidfVectorizer\n",
        "import scipy\n",
        "from scipy import *\n",
        "warnings.filterwarnings(\"ignore\")\n",
        "import sys\n",
        "import os \n",
        "import pandas as pd\n",
        "import numpy as np\n",
        "from tqdm import tqdm\n",
        "# exctract word2vec vectors\n",
        "# https://github.com/explosion/spaCy/issues/1721\n",
        "# http://landinghub.visualstudio.com/visual-cpp-build-tools\n",
        "import spacy\n",
        "from scipy import spatial\n",
        "from nltk.corpus import stopwords\n",
        "import nltk\n",
        "nltk.download('stopwords')\n",
        "STOP_WORDS = stopwords.words(\"english\")\n",
        "from sklearn.model_selection import train_test_split\n",
        "import xgboost as xgb\n",
        "import sklearn.metrics as classification_report\n",
        "from sklearn.metrics import confusion_matrix\n",
        "from sklearn.metrics import accuracy_score, log_loss\n",
        "from sklearn.metrics import precision_recall_curve, auc, roc_curve ,f1_score\n",
        "from sklearn.model_selection import RandomizedSearchCV\n",
        "from sklearn.linear_model import SGDClassifier\n",
        "\n",
        "from sklearn import model_selection\n",
        "from sklearn.linear_model import LogisticRegression\n",
        "from sklearn.calibration import CalibratedClassifierCV\n",
        "from sklearn.ensemble import RandomForestClassifier\n",
        "from sklearn.ensemble import AdaBoostClassifier\n",
        "from sklearn.tree import DecisionTreeClassifier"
      ]
    },
    {
      "cell_type": "code",
      "execution_count": null,
      "metadata": {
        "colab": {
          "base_uri": "https://localhost:8080/",
          "height": 206
        },
        "id": "c0VD-8EugeAH",
        "outputId": "3b768f22-1516-4f70-e158-fbf1665898e7"
      },
      "outputs": [
        {
          "output_type": "execute_result",
          "data": {
            "text/plain": [
              "   id  qid1  qid2                                          question1  \\\n",
              "0   0     1     2  What is the step by step guide to invest in sh...   \n",
              "1   1     3     4  What is the story of Kohinoor (Koh-i-Noor) Dia...   \n",
              "2   2     5     6  How can I increase the speed of my internet co...   \n",
              "3   3     7     8  Why am I mentally very lonely? How can I solve...   \n",
              "4   4     9    10  Which one dissolve in water quikly sugar, salt...   \n",
              "\n",
              "                                           question2  is_duplicate  \n",
              "0  What is the step by step guide to invest in sh...             0  \n",
              "1  What would happen if the Indian government sto...             0  \n",
              "2  How can Internet speed be increased by hacking...             0  \n",
              "3  Find the remainder when [math]23^{24}[/math] i...             0  \n",
              "4            Which fish would survive in salt water?             0  "
            ],
            "text/html": [
              "\n",
              "  <div id=\"df-2421bc62-730a-4b42-8aac-5311a68f0baf\">\n",
              "    <div class=\"colab-df-container\">\n",
              "      <div>\n",
              "<style scoped>\n",
              "    .dataframe tbody tr th:only-of-type {\n",
              "        vertical-align: middle;\n",
              "    }\n",
              "\n",
              "    .dataframe tbody tr th {\n",
              "        vertical-align: top;\n",
              "    }\n",
              "\n",
              "    .dataframe thead th {\n",
              "        text-align: right;\n",
              "    }\n",
              "</style>\n",
              "<table border=\"1\" class=\"dataframe\">\n",
              "  <thead>\n",
              "    <tr style=\"text-align: right;\">\n",
              "      <th></th>\n",
              "      <th>id</th>\n",
              "      <th>qid1</th>\n",
              "      <th>qid2</th>\n",
              "      <th>question1</th>\n",
              "      <th>question2</th>\n",
              "      <th>is_duplicate</th>\n",
              "    </tr>\n",
              "  </thead>\n",
              "  <tbody>\n",
              "    <tr>\n",
              "      <th>0</th>\n",
              "      <td>0</td>\n",
              "      <td>1</td>\n",
              "      <td>2</td>\n",
              "      <td>What is the step by step guide to invest in sh...</td>\n",
              "      <td>What is the step by step guide to invest in sh...</td>\n",
              "      <td>0</td>\n",
              "    </tr>\n",
              "    <tr>\n",
              "      <th>1</th>\n",
              "      <td>1</td>\n",
              "      <td>3</td>\n",
              "      <td>4</td>\n",
              "      <td>What is the story of Kohinoor (Koh-i-Noor) Dia...</td>\n",
              "      <td>What would happen if the Indian government sto...</td>\n",
              "      <td>0</td>\n",
              "    </tr>\n",
              "    <tr>\n",
              "      <th>2</th>\n",
              "      <td>2</td>\n",
              "      <td>5</td>\n",
              "      <td>6</td>\n",
              "      <td>How can I increase the speed of my internet co...</td>\n",
              "      <td>How can Internet speed be increased by hacking...</td>\n",
              "      <td>0</td>\n",
              "    </tr>\n",
              "    <tr>\n",
              "      <th>3</th>\n",
              "      <td>3</td>\n",
              "      <td>7</td>\n",
              "      <td>8</td>\n",
              "      <td>Why am I mentally very lonely? How can I solve...</td>\n",
              "      <td>Find the remainder when [math]23^{24}[/math] i...</td>\n",
              "      <td>0</td>\n",
              "    </tr>\n",
              "    <tr>\n",
              "      <th>4</th>\n",
              "      <td>4</td>\n",
              "      <td>9</td>\n",
              "      <td>10</td>\n",
              "      <td>Which one dissolve in water quikly sugar, salt...</td>\n",
              "      <td>Which fish would survive in salt water?</td>\n",
              "      <td>0</td>\n",
              "    </tr>\n",
              "  </tbody>\n",
              "</table>\n",
              "</div>\n",
              "      <button class=\"colab-df-convert\" onclick=\"convertToInteractive('df-2421bc62-730a-4b42-8aac-5311a68f0baf')\"\n",
              "              title=\"Convert this dataframe to an interactive table.\"\n",
              "              style=\"display:none;\">\n",
              "        \n",
              "  <svg xmlns=\"http://www.w3.org/2000/svg\" height=\"24px\"viewBox=\"0 0 24 24\"\n",
              "       width=\"24px\">\n",
              "    <path d=\"M0 0h24v24H0V0z\" fill=\"none\"/>\n",
              "    <path d=\"M18.56 5.44l.94 2.06.94-2.06 2.06-.94-2.06-.94-.94-2.06-.94 2.06-2.06.94zm-11 1L8.5 8.5l.94-2.06 2.06-.94-2.06-.94L8.5 2.5l-.94 2.06-2.06.94zm10 10l.94 2.06.94-2.06 2.06-.94-2.06-.94-.94-2.06-.94 2.06-2.06.94z\"/><path d=\"M17.41 7.96l-1.37-1.37c-.4-.4-.92-.59-1.43-.59-.52 0-1.04.2-1.43.59L10.3 9.45l-7.72 7.72c-.78.78-.78 2.05 0 2.83L4 21.41c.39.39.9.59 1.41.59.51 0 1.02-.2 1.41-.59l7.78-7.78 2.81-2.81c.8-.78.8-2.07 0-2.86zM5.41 20L4 18.59l7.72-7.72 1.47 1.35L5.41 20z\"/>\n",
              "  </svg>\n",
              "      </button>\n",
              "      \n",
              "  <style>\n",
              "    .colab-df-container {\n",
              "      display:flex;\n",
              "      flex-wrap:wrap;\n",
              "      gap: 12px;\n",
              "    }\n",
              "\n",
              "    .colab-df-convert {\n",
              "      background-color: #E8F0FE;\n",
              "      border: none;\n",
              "      border-radius: 50%;\n",
              "      cursor: pointer;\n",
              "      display: none;\n",
              "      fill: #1967D2;\n",
              "      height: 32px;\n",
              "      padding: 0 0 0 0;\n",
              "      width: 32px;\n",
              "    }\n",
              "\n",
              "    .colab-df-convert:hover {\n",
              "      background-color: #E2EBFA;\n",
              "      box-shadow: 0px 1px 2px rgba(60, 64, 67, 0.3), 0px 1px 3px 1px rgba(60, 64, 67, 0.15);\n",
              "      fill: #174EA6;\n",
              "    }\n",
              "\n",
              "    [theme=dark] .colab-df-convert {\n",
              "      background-color: #3B4455;\n",
              "      fill: #D2E3FC;\n",
              "    }\n",
              "\n",
              "    [theme=dark] .colab-df-convert:hover {\n",
              "      background-color: #434B5C;\n",
              "      box-shadow: 0px 1px 3px 1px rgba(0, 0, 0, 0.15);\n",
              "      filter: drop-shadow(0px 1px 2px rgba(0, 0, 0, 0.3));\n",
              "      fill: #FFFFFF;\n",
              "    }\n",
              "  </style>\n",
              "\n",
              "      <script>\n",
              "        const buttonEl =\n",
              "          document.querySelector('#df-2421bc62-730a-4b42-8aac-5311a68f0baf button.colab-df-convert');\n",
              "        buttonEl.style.display =\n",
              "          google.colab.kernel.accessAllowed ? 'block' : 'none';\n",
              "\n",
              "        async function convertToInteractive(key) {\n",
              "          const element = document.querySelector('#df-2421bc62-730a-4b42-8aac-5311a68f0baf');\n",
              "          const dataTable =\n",
              "            await google.colab.kernel.invokeFunction('convertToInteractive',\n",
              "                                                     [key], {});\n",
              "          if (!dataTable) return;\n",
              "\n",
              "          const docLinkHtml = 'Like what you see? Visit the ' +\n",
              "            '<a target=\"_blank\" href=https://colab.research.google.com/notebooks/data_table.ipynb>data table notebook</a>'\n",
              "            + ' to learn more about interactive tables.';\n",
              "          element.innerHTML = '';\n",
              "          dataTable['output_type'] = 'display_data';\n",
              "          await google.colab.output.renderOutput(dataTable, element);\n",
              "          const docLink = document.createElement('div');\n",
              "          docLink.innerHTML = docLinkHtml;\n",
              "          element.appendChild(docLink);\n",
              "        }\n",
              "      </script>\n",
              "    </div>\n",
              "  </div>\n",
              "  "
            ]
          },
          "metadata": {},
          "execution_count": 2
        }
      ],
      "source": [
        "df= pd.read_csv(\"/content/drive/MyDrive/Capstone Data/train.csv\") # importing the dataset\n",
        "\n",
        "df['question1'] = df['question1'].apply(lambda x: str(x))\n",
        "df['question2'] = df['question2'].apply(lambda x: str(x))\n",
        "df.head()"
      ]
    },
    {
      "cell_type": "code",
      "execution_count": null,
      "metadata": {
        "colab": {
          "base_uri": "https://localhost:8080/",
          "height": 300
        },
        "id": "87CeSCvoHvh3",
        "outputId": "5685c63b-01ae-4165-c345-c9075d445008"
      },
      "outputs": [
        {
          "output_type": "execute_result",
          "data": {
            "text/plain": [
              "                  id           qid1           qid2   is_duplicate\n",
              "count  404290.000000  404290.000000  404290.000000  404290.000000\n",
              "mean   202144.500000  217243.942418  220955.655337       0.369198\n",
              "std    116708.614503  157751.700002  159903.182629       0.482588\n",
              "min         0.000000       1.000000       2.000000       0.000000\n",
              "25%    101072.250000   74437.500000   74727.000000       0.000000\n",
              "50%    202144.500000  192182.000000  197052.000000       0.000000\n",
              "75%    303216.750000  346573.500000  354692.500000       1.000000\n",
              "max    404289.000000  537932.000000  537933.000000       1.000000"
            ],
            "text/html": [
              "\n",
              "  <div id=\"df-ad500d05-8063-4113-b61d-54e1052f0680\">\n",
              "    <div class=\"colab-df-container\">\n",
              "      <div>\n",
              "<style scoped>\n",
              "    .dataframe tbody tr th:only-of-type {\n",
              "        vertical-align: middle;\n",
              "    }\n",
              "\n",
              "    .dataframe tbody tr th {\n",
              "        vertical-align: top;\n",
              "    }\n",
              "\n",
              "    .dataframe thead th {\n",
              "        text-align: right;\n",
              "    }\n",
              "</style>\n",
              "<table border=\"1\" class=\"dataframe\">\n",
              "  <thead>\n",
              "    <tr style=\"text-align: right;\">\n",
              "      <th></th>\n",
              "      <th>id</th>\n",
              "      <th>qid1</th>\n",
              "      <th>qid2</th>\n",
              "      <th>is_duplicate</th>\n",
              "    </tr>\n",
              "  </thead>\n",
              "  <tbody>\n",
              "    <tr>\n",
              "      <th>count</th>\n",
              "      <td>404290.000000</td>\n",
              "      <td>404290.000000</td>\n",
              "      <td>404290.000000</td>\n",
              "      <td>404290.000000</td>\n",
              "    </tr>\n",
              "    <tr>\n",
              "      <th>mean</th>\n",
              "      <td>202144.500000</td>\n",
              "      <td>217243.942418</td>\n",
              "      <td>220955.655337</td>\n",
              "      <td>0.369198</td>\n",
              "    </tr>\n",
              "    <tr>\n",
              "      <th>std</th>\n",
              "      <td>116708.614503</td>\n",
              "      <td>157751.700002</td>\n",
              "      <td>159903.182629</td>\n",
              "      <td>0.482588</td>\n",
              "    </tr>\n",
              "    <tr>\n",
              "      <th>min</th>\n",
              "      <td>0.000000</td>\n",
              "      <td>1.000000</td>\n",
              "      <td>2.000000</td>\n",
              "      <td>0.000000</td>\n",
              "    </tr>\n",
              "    <tr>\n",
              "      <th>25%</th>\n",
              "      <td>101072.250000</td>\n",
              "      <td>74437.500000</td>\n",
              "      <td>74727.000000</td>\n",
              "      <td>0.000000</td>\n",
              "    </tr>\n",
              "    <tr>\n",
              "      <th>50%</th>\n",
              "      <td>202144.500000</td>\n",
              "      <td>192182.000000</td>\n",
              "      <td>197052.000000</td>\n",
              "      <td>0.000000</td>\n",
              "    </tr>\n",
              "    <tr>\n",
              "      <th>75%</th>\n",
              "      <td>303216.750000</td>\n",
              "      <td>346573.500000</td>\n",
              "      <td>354692.500000</td>\n",
              "      <td>1.000000</td>\n",
              "    </tr>\n",
              "    <tr>\n",
              "      <th>max</th>\n",
              "      <td>404289.000000</td>\n",
              "      <td>537932.000000</td>\n",
              "      <td>537933.000000</td>\n",
              "      <td>1.000000</td>\n",
              "    </tr>\n",
              "  </tbody>\n",
              "</table>\n",
              "</div>\n",
              "      <button class=\"colab-df-convert\" onclick=\"convertToInteractive('df-ad500d05-8063-4113-b61d-54e1052f0680')\"\n",
              "              title=\"Convert this dataframe to an interactive table.\"\n",
              "              style=\"display:none;\">\n",
              "        \n",
              "  <svg xmlns=\"http://www.w3.org/2000/svg\" height=\"24px\"viewBox=\"0 0 24 24\"\n",
              "       width=\"24px\">\n",
              "    <path d=\"M0 0h24v24H0V0z\" fill=\"none\"/>\n",
              "    <path d=\"M18.56 5.44l.94 2.06.94-2.06 2.06-.94-2.06-.94-.94-2.06-.94 2.06-2.06.94zm-11 1L8.5 8.5l.94-2.06 2.06-.94-2.06-.94L8.5 2.5l-.94 2.06-2.06.94zm10 10l.94 2.06.94-2.06 2.06-.94-2.06-.94-.94-2.06-.94 2.06-2.06.94z\"/><path d=\"M17.41 7.96l-1.37-1.37c-.4-.4-.92-.59-1.43-.59-.52 0-1.04.2-1.43.59L10.3 9.45l-7.72 7.72c-.78.78-.78 2.05 0 2.83L4 21.41c.39.39.9.59 1.41.59.51 0 1.02-.2 1.41-.59l7.78-7.78 2.81-2.81c.8-.78.8-2.07 0-2.86zM5.41 20L4 18.59l7.72-7.72 1.47 1.35L5.41 20z\"/>\n",
              "  </svg>\n",
              "      </button>\n",
              "      \n",
              "  <style>\n",
              "    .colab-df-container {\n",
              "      display:flex;\n",
              "      flex-wrap:wrap;\n",
              "      gap: 12px;\n",
              "    }\n",
              "\n",
              "    .colab-df-convert {\n",
              "      background-color: #E8F0FE;\n",
              "      border: none;\n",
              "      border-radius: 50%;\n",
              "      cursor: pointer;\n",
              "      display: none;\n",
              "      fill: #1967D2;\n",
              "      height: 32px;\n",
              "      padding: 0 0 0 0;\n",
              "      width: 32px;\n",
              "    }\n",
              "\n",
              "    .colab-df-convert:hover {\n",
              "      background-color: #E2EBFA;\n",
              "      box-shadow: 0px 1px 2px rgba(60, 64, 67, 0.3), 0px 1px 3px 1px rgba(60, 64, 67, 0.15);\n",
              "      fill: #174EA6;\n",
              "    }\n",
              "\n",
              "    [theme=dark] .colab-df-convert {\n",
              "      background-color: #3B4455;\n",
              "      fill: #D2E3FC;\n",
              "    }\n",
              "\n",
              "    [theme=dark] .colab-df-convert:hover {\n",
              "      background-color: #434B5C;\n",
              "      box-shadow: 0px 1px 3px 1px rgba(0, 0, 0, 0.15);\n",
              "      filter: drop-shadow(0px 1px 2px rgba(0, 0, 0, 0.3));\n",
              "      fill: #FFFFFF;\n",
              "    }\n",
              "  </style>\n",
              "\n",
              "      <script>\n",
              "        const buttonEl =\n",
              "          document.querySelector('#df-ad500d05-8063-4113-b61d-54e1052f0680 button.colab-df-convert');\n",
              "        buttonEl.style.display =\n",
              "          google.colab.kernel.accessAllowed ? 'block' : 'none';\n",
              "\n",
              "        async function convertToInteractive(key) {\n",
              "          const element = document.querySelector('#df-ad500d05-8063-4113-b61d-54e1052f0680');\n",
              "          const dataTable =\n",
              "            await google.colab.kernel.invokeFunction('convertToInteractive',\n",
              "                                                     [key], {});\n",
              "          if (!dataTable) return;\n",
              "\n",
              "          const docLinkHtml = 'Like what you see? Visit the ' +\n",
              "            '<a target=\"_blank\" href=https://colab.research.google.com/notebooks/data_table.ipynb>data table notebook</a>'\n",
              "            + ' to learn more about interactive tables.';\n",
              "          element.innerHTML = '';\n",
              "          dataTable['output_type'] = 'display_data';\n",
              "          await google.colab.output.renderOutput(dataTable, element);\n",
              "          const docLink = document.createElement('div');\n",
              "          docLink.innerHTML = docLinkHtml;\n",
              "          element.appendChild(docLink);\n",
              "        }\n",
              "      </script>\n",
              "    </div>\n",
              "  </div>\n",
              "  "
            ]
          },
          "metadata": {},
          "execution_count": 3
        }
      ],
      "source": [
        "df.describe()"
      ]
    },
    {
      "cell_type": "code",
      "execution_count": null,
      "metadata": {
        "colab": {
          "base_uri": "https://localhost:8080/"
        },
        "id": "pSddVDkcLc21",
        "outputId": "e1d8ac58-8008-404f-fac7-c5dd305853f6"
      },
      "outputs": [
        {
          "output_type": "stream",
          "name": "stdout",
          "text": [
            "<class 'pandas.core.frame.DataFrame'>\n",
            "RangeIndex: 404290 entries, 0 to 404289\n",
            "Data columns (total 6 columns):\n",
            " #   Column        Non-Null Count   Dtype \n",
            "---  ------        --------------   ----- \n",
            " 0   id            404290 non-null  int64 \n",
            " 1   qid1          404290 non-null  int64 \n",
            " 2   qid2          404290 non-null  int64 \n",
            " 3   question1     404290 non-null  object\n",
            " 4   question2     404290 non-null  object\n",
            " 5   is_duplicate  404290 non-null  int64 \n",
            "dtypes: int64(4), object(2)\n",
            "memory usage: 18.5+ MB\n"
          ]
        }
      ],
      "source": [
        "df.info()"
      ]
    },
    {
      "cell_type": "markdown",
      "metadata": {
        "id": "yv55Kq_MZc0r"
      },
      "source": [
        "# **TF-IDF**"
      ]
    },
    {
      "cell_type": "code",
      "execution_count": null,
      "metadata": {
        "id": "fN02E6nqc3mk"
      },
      "outputs": [],
      "source": [
        "import pandas as pd\n",
        "from sklearn.feature_extraction.text import TfidfVectorizer"
      ]
    },
    {
      "cell_type": "code",
      "execution_count": null,
      "metadata": {
        "id": "KQHLFXRKc-AP"
      },
      "outputs": [],
      "source": [
        "documentA = 'the man went out for a walk'\n",
        "documentB = 'the children sat around the fire'"
      ]
    },
    {
      "cell_type": "code",
      "execution_count": null,
      "metadata": {
        "id": "o81TuzRvdBic"
      },
      "outputs": [],
      "source": [
        "vectorizer = TfidfVectorizer()\n",
        "vectors = vectorizer.fit_transform([documentA, documentB])\n",
        "feature_names = vectorizer.get_feature_names()\n",
        "dense = vectors.todense()\n",
        "denselist = dense.tolist()\n",
        "df7 = pd.DataFrame(denselist, columns=feature_names)"
      ]
    },
    {
      "cell_type": "code",
      "execution_count": null,
      "metadata": {
        "colab": {
          "base_uri": "https://localhost:8080/"
        },
        "id": "AO5H7G3gixb2",
        "outputId": "4b10ade6-ce00-48fc-915e-6bb8b86a9a0c"
      },
      "outputs": [
        {
          "output_type": "stream",
          "name": "stdout",
          "text": [
            "     around  children      fire      for      man      out       sat  \\\n",
            "0  0.000000  0.000000  0.000000  0.42616  0.42616  0.42616  0.000000   \n",
            "1  0.407401  0.407401  0.407401  0.00000  0.00000  0.00000  0.407401   \n",
            "\n",
            "        the     walk     went  \n",
            "0  0.303216  0.42616  0.42616  \n",
            "1  0.579739  0.00000  0.00000  \n"
          ]
        }
      ],
      "source": [
        "print(df7.head())"
      ]
    },
    {
      "cell_type": "code",
      "execution_count": null,
      "metadata": {
        "colab": {
          "base_uri": "https://localhost:8080/"
        },
        "id": "IJvrOFHudGa7",
        "outputId": "a637492a-2cb6-44e4-c497-6ab2ea388a92"
      },
      "outputs": [
        {
          "output_type": "stream",
          "name": "stdout",
          "text": [
            "  (0, 8)\t0.42615959880289433\n",
            "  (0, 3)\t0.42615959880289433\n",
            "  (0, 5)\t0.42615959880289433\n",
            "  (0, 9)\t0.42615959880289433\n",
            "  (0, 4)\t0.42615959880289433\n",
            "  (0, 7)\t0.3032160644503863\n",
            "  (1, 2)\t0.40740123733358447\n",
            "  (1, 0)\t0.40740123733358447\n",
            "  (1, 6)\t0.40740123733358447\n",
            "  (1, 1)\t0.40740123733358447\n",
            "  (1, 7)\t0.5797386715376657\n"
          ]
        }
      ],
      "source": [
        "print(vectors)"
      ]
    },
    {
      "cell_type": "code",
      "execution_count": null,
      "metadata": {
        "colab": {
          "base_uri": "https://localhost:8080/"
        },
        "id": "c0oW468eekRZ",
        "outputId": "a3f1dc1a-b777-4667-f885-ad58dd0f4ae8"
      },
      "outputs": [
        {
          "output_type": "stream",
          "name": "stdout",
          "text": [
            "['around', 'children', 'fire', 'for', 'man', 'out', 'sat', 'the', 'walk', 'went']\n"
          ]
        }
      ],
      "source": [
        "print(feature_names)"
      ]
    },
    {
      "cell_type": "code",
      "execution_count": null,
      "metadata": {
        "colab": {
          "base_uri": "https://localhost:8080/"
        },
        "id": "U9ELMlIVy0Qx",
        "outputId": "cafeb732-623e-42e8-dd4f-1380de15402d"
      },
      "outputs": [
        {
          "output_type": "execute_result",
          "data": {
            "text/plain": [
              "0         What is the step by step guide to invest in sh...\n",
              "1         What is the story of Kohinoor (Koh-i-Noor) Dia...\n",
              "2         How can I increase the speed of my internet co...\n",
              "3         Why am I mentally very lonely? How can I solve...\n",
              "4         Which one dissolve in water quikly sugar, salt...\n",
              "                                ...                        \n",
              "404285    How many keywords are there in the Racket prog...\n",
              "404286            Do you believe there is life after death?\n",
              "404287                                    What is one coin?\n",
              "404288    What is the approx annual cost of living while...\n",
              "404289                What is like to have sex with cousin?\n",
              "Name: question1, Length: 404290, dtype: object"
            ]
          },
          "metadata": {},
          "execution_count": 11
        }
      ],
      "source": [
        "df['question1']"
      ]
    },
    {
      "cell_type": "code",
      "execution_count": null,
      "metadata": {
        "id": "h5qJjEENgfa_"
      },
      "outputs": [],
      "source": [
        "from sklearn.feature_extraction.text import TfidfVectorizer\n",
        "from sklearn.feature_extraction.text import CountVectorizer\n",
        "# merge texts\n",
        "question = list(df['question1']) + list(df['question2'])\n",
        "\n",
        "questions = [ques for ques in question if ques not in STOP_WORDS]\n",
        "\n",
        "tfidf = TfidfVectorizer(lowercase=False, )\n",
        "x=tfidf.fit_transform(questions)\n",
        "\n",
        "# dict key:word and value:tf-idf score\n",
        "word2tfidf = dict(zip(tfidf.get_feature_names(), tfidf.idf_))"
      ]
    },
    {
      "cell_type": "code",
      "execution_count": null,
      "metadata": {
        "colab": {
          "base_uri": "https://localhost:8080/"
        },
        "id": "EV8nkhVEgpqJ",
        "outputId": "a4039742-61bb-4f46-90f3-f21d646d7d0e"
      },
      "outputs": [
        {
          "output_type": "stream",
          "name": "stdout",
          "text": [
            "  (0, 77824)\t0.28810089872803335\n",
            "  (0, 83151)\t0.27283405422911383\n",
            "  (0, 97832)\t0.2994105898351769\n",
            "  (0, 77574)\t0.20122105586038397\n",
            "  (0, 78968)\t0.2870081522008514\n",
            "  (0, 103601)\t0.09954570141748624\n",
            "  (0, 74674)\t0.3612041095478802\n",
            "  (0, 60060)\t0.19437825565580152\n",
            "  (0, 100415)\t0.6561773827369753\n",
            "  (0, 103025)\t0.07891022032825844\n",
            "  (0, 79172)\t0.0938889428826086\n",
            "  (0, 51739)\t0.07923245022121653\n",
            "  (1, 16010)\t0.44275849179086657\n",
            "  (1, 34922)\t0.497188073608617\n",
            "  (1, 27864)\t0.4741291764130098\n",
            "  (1, 27867)\t0.4632308754936714\n",
            "  (1, 87457)\t0.10928916808876182\n",
            "  (1, 100638)\t0.2895425035439381\n",
            "  (1, 103025)\t0.07944306353728867\n",
            "  (1, 79172)\t0.09452293028512647\n",
            "  (1, 51739)\t0.07976746929554651\n",
            "  (2, 50118)\t0.44691071060685306\n",
            "  (2, 106157)\t0.29128739079040816\n",
            "  (2, 107880)\t0.30756056894249173\n",
            "  (2, 63504)\t0.42337596422607426\n",
            "  :\t:\n",
            "  (808573, 92091)\t0.21004595937718346\n",
            "  (808573, 59992)\t0.16564744818997473\n",
            "  (808573, 91680)\t0.23467372994318145\n",
            "  (808573, 74907)\t0.19931796385379638\n",
            "  (808573, 92159)\t0.21971930475701362\n",
            "  (808573, 88210)\t0.16494341012992808\n",
            "  (808573, 98143)\t0.1288155192837029\n",
            "  (808573, 107340)\t0.16575801122551972\n",
            "  (808573, 106129)\t0.15684215061459425\n",
            "  (808573, 55267)\t0.08757663059083842\n",
            "  (808573, 87678)\t0.1443491816563776\n",
            "  (808573, 51791)\t0.12372454787590947\n",
            "  (808573, 54965)\t0.16092147100181442\n",
            "  (808573, 87457)\t0.08217769098811292\n",
            "  (808573, 103601)\t0.07535673140732493\n",
            "  (808574, 64377)\t0.6393875191112658\n",
            "  (808574, 97715)\t0.3950719764219939\n",
            "  (808574, 75316)\t0.26969652836930014\n",
            "  (808574, 108190)\t0.26920451973270826\n",
            "  (808574, 81681)\t0.29614613433868114\n",
            "  (808574, 108896)\t0.2795451101569493\n",
            "  (808574, 79291)\t0.23462341982393398\n",
            "  (808574, 103601)\t0.16536821412718128\n",
            "  (808574, 79172)\t0.15597104234235237\n",
            "  (808574, 51739)\t0.13162325050131968\n"
          ]
        }
      ],
      "source": [
        "print(x) # first id , feautre_names no. , tfidf score"
      ]
    },
    {
      "cell_type": "code",
      "execution_count": null,
      "metadata": {
        "colab": {
          "base_uri": "https://localhost:8080/"
        },
        "id": "o7Iza3WNgsaK",
        "outputId": "7a00725d-dca4-4544-e550-c5242ba2a83e"
      },
      "outputs": [
        {
          "output_type": "execute_result",
          "data": {
            "text/plain": [
              "array([10.04915306,  7.30458485, 13.90988277, ..., 13.50441767,\n",
              "       13.50441767, 13.50441767])"
            ]
          },
          "metadata": {},
          "execution_count": 14
        }
      ],
      "source": [
        "tfidf.idf_"
      ]
    },
    {
      "cell_type": "code",
      "execution_count": null,
      "metadata": {
        "colab": {
          "base_uri": "https://localhost:8080/"
        },
        "id": "cEu6IGXbguXS",
        "outputId": "c5948b8e-9989-4d09-ee94-f0ae1cef7e41"
      },
      "outputs": [
        {
          "output_type": "execute_result",
          "data": {
            "text/plain": [
              "['BookRenter',\n",
              " 'BookSellBuy',\n",
              " 'Booker',\n",
              " 'Booking',\n",
              " 'BookinginBit',\n",
              " 'Bookit',\n",
              " 'Booklet',\n",
              " 'Bookmarked',\n",
              " 'Bookmarks',\n",
              " 'Bookmyoffer',\n",
              " 'Books',\n",
              " 'Bookshelf',\n",
              " 'Bookshelves',\n",
              " 'Booktract',\n",
              " 'Bool',\n",
              " 'Boolean',\n",
              " 'Boom',\n",
              " 'Boomer',\n",
              " 'Boomerang',\n",
              " 'Boomers']"
            ]
          },
          "metadata": {},
          "execution_count": 15
        }
      ],
      "source": [
        "abf = tfidf.get_feature_names()\n",
        "abf[10000:10020]"
      ]
    },
    {
      "cell_type": "code",
      "execution_count": null,
      "metadata": {
        "colab": {
          "base_uri": "https://localhost:8080/"
        },
        "id": "FfSRhbBcgwJ-",
        "outputId": "031c9ab9-71db-4d34-ee87-5cef484cd849"
      },
      "outputs": [
        {
          "output_type": "execute_result",
          "data": {
            "text/plain": [
              "4.767607133196319"
            ]
          },
          "metadata": {},
          "execution_count": 16
        }
      ],
      "source": [
        "word2tfidf['what']"
      ]
    },
    {
      "cell_type": "code",
      "source": [
        "len(abf)==len(word2tfidf)"
      ],
      "metadata": {
        "colab": {
          "base_uri": "https://localhost:8080/"
        },
        "id": "OHhcL0ryxiAz",
        "outputId": "e487b1f4-1004-4db3-9c02-0a246850dfc5"
      },
      "execution_count": null,
      "outputs": [
        {
          "output_type": "execute_result",
          "data": {
            "text/plain": [
              "True"
            ]
          },
          "metadata": {},
          "execution_count": 17
        }
      ]
    },
    {
      "cell_type": "code",
      "execution_count": null,
      "metadata": {
        "colab": {
          "base_uri": "https://localhost:8080/"
        },
        "id": "0f89m3fggx4L",
        "outputId": "d2455544-c12b-4273-8d50-f15d47d4cc72"
      },
      "outputs": [
        {
          "output_type": "stream",
          "name": "stdout",
          "text": [
            "['the', 'man', 'went', 'out', 'for', 'a', 'walk']\n",
            "['man', 'went', 'walk']\n"
          ]
        }
      ],
      "source": [
        "d = documentA.split(' ')\n",
        "print(d)\n",
        "\n",
        "l = [word for word in d if word not in STOP_WORDS]\n",
        "print(l)"
      ]
    },
    {
      "cell_type": "code",
      "execution_count": null,
      "metadata": {
        "colab": {
          "base_uri": "https://localhost:8080/"
        },
        "id": "hX5g3Pzau8EL",
        "outputId": "8abcd60d-95a2-46e5-af9f-610719ec48d0"
      },
      "outputs": [
        {
          "output_type": "stream",
          "name": "stdout",
          "text": [
            "man=6.6814943226847685\n",
            "went=8.40455123832601\n",
            "walk=8.692233310777791\n"
          ]
        }
      ],
      "source": [
        "for i in l:\n",
        "  print(\"{0}={1}\".format(i,word2tfidf[i]))"
      ]
    },
    {
      "cell_type": "markdown",
      "source": [
        "## Xgboost"
      ],
      "metadata": {
        "id": "c30UOgyK8nsc"
      }
    },
    {
      "cell_type": "code",
      "source": [
        "tfidf_vect = TfidfVectorizer(analyzer='word', token_pattern=r'\\w{1,}', max_features=5000)\n",
        "tfidf_vect.fit(pd.concat((df['question1'],df['question2'])).unique())\n",
        "trainq1_trans = tfidf_vect.transform(df['question1'].values)\n",
        "trainq2_trans = tfidf_vect.transform(df['question2'].values)\n",
        "labels = df['is_duplicate'].values\n",
        "X = scipy.sparse.hstack((trainq1_trans,trainq2_trans))\n",
        "y = labels\n",
        "X_train,X_valid,y_train,y_valid = train_test_split(X,y, test_size = 0.33, random_state = 42)\n",
        "\n",
        "xgb_model = xgb.XGBClassifier(n_estimators=80,random_state=42).fit(X_train, y_train) \n",
        "xgb_prediction = xgb_model.predict(X_valid)\n",
        "#, learning_rate=0.1, colsample_bytree=.7, gamma=0, reg_alpha=4, objective='binary:logistic', eta=0.3, silent=1, subsample=0.8"
      ],
      "metadata": {
        "id": "AV0ULCOdq-YS"
      },
      "execution_count": null,
      "outputs": []
    },
    {
      "cell_type": "code",
      "source": [
        "from sklearn.metrics import f1_score, classification_report, accuracy_score\n",
        "print(accuracy_score(y_valid,xgb_prediction))\n",
        "print(classification_report(y_valid, xgb_prediction))"
      ],
      "metadata": {
        "id": "fVdKX4Zrd9M5"
      },
      "execution_count": null,
      "outputs": []
    },
    {
      "cell_type": "markdown",
      "source": [
        "## Random Forest"
      ],
      "metadata": {
        "id": "nVpKqWTN8jBG"
      }
    },
    {
      "cell_type": "code",
      "source": [
        "tfidf_vect = TfidfVectorizer(analyzer='word', token_pattern=r'\\w{1,}', max_features=5000)\n",
        "tfidf_vect.fit(pd.concat((df['question1'],df['question2'])).unique())\n",
        "trainq1_trans = tfidf_vect.transform(df['question1'].values)\n",
        "trainq2_trans = tfidf_vect.transform(df['question2'].values)\n",
        "labels = df['is_duplicate'].values\n",
        "X = scipy.sparse.hstack((trainq1_trans,trainq2_trans))\n",
        "y = labels\n",
        "X_train,X_valid,y_train,y_valid = train_test_split(X,y, test_size = 0.33, random_state = 42)\n",
        "\n",
        "clf = RandomForestClassifier(n_estimators=80).fit(X_train,y_train)\n",
        "adb = clf.predict(X_valid)\n",
        "print('word level tf-idf validation score:', f1_score(y_valid, clf.predict(X_valid), average='macro'))"
      ],
      "metadata": {
        "colab": {
          "base_uri": "https://localhost:8080/"
        },
        "id": "8GxPRrMUyUc3",
        "outputId": "c700d3e9-a167-44a2-9ba2-84583e60fd0d"
      },
      "execution_count": null,
      "outputs": [
        {
          "output_type": "stream",
          "name": "stdout",
          "text": [
            "word level tf-idf validation score: 0.769154332846925\n"
          ]
        }
      ]
    },
    {
      "cell_type": "code",
      "source": [
        "from sklearn.metrics import f1_score, classification_report, accuracy_score\n",
        "print(accuracy_score(y_valid,adb))\n",
        "print(classification_report(y_valid,adb))"
      ],
      "metadata": {
        "colab": {
          "base_uri": "https://localhost:8080/"
        },
        "id": "lUsZy7dc0Xtj",
        "outputId": "2886ab86-956a-473d-a5a2-655cfae88a9f"
      },
      "execution_count": null,
      "outputs": [
        {
          "output_type": "stream",
          "name": "stdout",
          "text": [
            "0.8009983810037776\n",
            "              precision    recall  f1-score   support\n",
            "\n",
            "           0       0.79      0.93      0.85     83975\n",
            "           1       0.83      0.58      0.68     49441\n",
            "\n",
            "    accuracy                           0.80    133416\n",
            "   macro avg       0.81      0.76      0.77    133416\n",
            "weighted avg       0.81      0.80      0.79    133416\n",
            "\n"
          ]
        }
      ]
    },
    {
      "cell_type": "markdown",
      "source": [
        "## AdaBoost"
      ],
      "metadata": {
        "id": "Sc4wPzOhNQhQ"
      }
    },
    {
      "cell_type": "code",
      "source": [
        "Ada_model = AdaBoostClassifier(base_estimator=DecisionTreeClassifier(),n_estimators=80).fit(X_train, y_train) \n",
        "Ada_prediction = Ada_model.predict(X_valid)"
      ],
      "metadata": {
        "id": "sw-pQ7Fe8gta"
      },
      "execution_count": null,
      "outputs": []
    },
    {
      "cell_type": "code",
      "source": [
        "print(accuracy_score(y_valid,Ada_prediction))\n",
        "print(classification_report(y_valid,Ada_prediction))"
      ],
      "metadata": {
        "colab": {
          "base_uri": "https://localhost:8080/"
        },
        "id": "Vo0v4aARN4kq",
        "outputId": "f17058b7-780e-4b78-f617-080a009fe1b8"
      },
      "execution_count": null,
      "outputs": [
        {
          "output_type": "stream",
          "name": "stdout",
          "text": [
            "0.7239911255021887\n",
            "              precision    recall  f1-score   support\n",
            "\n",
            "           0       0.79      0.76      0.78     83975\n",
            "           1       0.62      0.67      0.64     49441\n",
            "\n",
            "    accuracy                           0.72    133416\n",
            "   macro avg       0.71      0.71      0.71    133416\n",
            "weighted avg       0.73      0.72      0.73    133416\n",
            "\n"
          ]
        }
      ]
    },
    {
      "cell_type": "markdown",
      "metadata": {
        "id": "Fz7d6rMBZPE1"
      },
      "source": [
        "# **Word2vector**"
      ]
    },
    {
      "cell_type": "code",
      "execution_count": null,
      "metadata": {
        "id": "vO4fy0Njlpcw"
      },
      "outputs": [],
      "source": [
        "import gensim\n",
        "from gensim.models import Word2Vec\n",
        "import multiprocessing\n",
        "\n",
        "\n",
        "csv_path = \"/content/drive/MyDrive/Extra data Capstone/Hotel_Reviews.csv\" #random dataset\n",
        "\n",
        "df1 = pd.read_csv(csv_path)"
      ]
    },
    {
      "cell_type": "code",
      "execution_count": null,
      "metadata": {
        "id": "sRia46erlqu0"
      },
      "outputs": [],
      "source": [
        "df1.head()"
      ]
    },
    {
      "cell_type": "code",
      "execution_count": null,
      "metadata": {
        "id": "OC0ZLEOdltDr"
      },
      "outputs": [],
      "source": [
        "df1.Description"
      ]
    },
    {
      "cell_type": "code",
      "execution_count": null,
      "metadata": {
        "id": "jze1aiBDluCq"
      },
      "outputs": [],
      "source": [
        "def remover(text):  #function for removing the Stop words\n",
        "  text_t = text.split(\" \")  \n",
        "  l2 = [words.lower() for words in text_t if words not in STOP_WORDS]\n",
        "  return l2;"
      ]
    },
    {
      "cell_type": "code",
      "execution_count": null,
      "metadata": {
        "id": "sW3xFFJlnER_"
      },
      "outputs": [],
      "source": [
        "Description = df1.Description.apply(remover)\n",
        "Description2 = df1.Description.apply(gensim.utils.simple_preprocess)\n",
        "print(Description[0])\n",
        "print(Description2[0])"
      ]
    },
    {
      "cell_type": "code",
      "execution_count": null,
      "metadata": {
        "id": "d-6yybsaofkq"
      },
      "outputs": [],
      "source": [
        "cores = multiprocessing.cpu_count()\n",
        "print(cores)\n",
        "model_sample = Word2Vec(window=5,min_count=4,workers = cores-1)\n",
        "print(model_sample)"
      ]
    },
    {
      "cell_type": "code",
      "execution_count": null,
      "metadata": {
        "id": "MxYFXcIVofiU"
      },
      "outputs": [],
      "source": [
        "model_sample.build_vocab(Description,progress_per=1000)"
      ]
    },
    {
      "cell_type": "code",
      "execution_count": null,
      "metadata": {
        "id": "BHi_Bv_XofgO"
      },
      "outputs": [],
      "source": [
        "print(model_sample)\n",
        "model_sample.epochs"
      ]
    },
    {
      "cell_type": "code",
      "execution_count": null,
      "metadata": {
        "id": "V6DfxCCdofdM"
      },
      "outputs": [],
      "source": [
        "model_sample.train(Description,total_examples=model_sample.corpus_count,epochs=10)"
      ]
    },
    {
      "cell_type": "code",
      "execution_count": null,
      "metadata": {
        "id": "-GubNYJ-ofbO"
      },
      "outputs": [],
      "source": [
        "model_sample.wv.most_similar(\"bad\")"
      ]
    },
    {
      "cell_type": "markdown",
      "metadata": {
        "id": "dSw3WUDoy6ob"
      },
      "source": [
        "### Main DataSet"
      ]
    },
    {
      "cell_type": "code",
      "execution_count": null,
      "metadata": {
        "id": "23povEdUsQDa"
      },
      "outputs": [],
      "source": [
        "question = list(df['question1'])"
      ]
    },
    {
      "cell_type": "markdown",
      "metadata": {
        "id": "C_kj_45j4ITy"
      },
      "source": [
        "Using Stop_words list for preprocessing"
      ]
    },
    {
      "cell_type": "code",
      "execution_count": null,
      "metadata": {
        "id": "fHvFIC7G1Osv"
      },
      "outputs": [],
      "source": [
        "def clean_data(text):\n",
        "    text = re.sub(r'[^ \\nA-Za-z0-9À-ÖØ-öø-ÿ/]+', '', text)\n",
        "    text = re.sub(r'[\\\\/×\\^\\]\\[÷]', '', text)\n",
        "    return text"
      ]
    },
    {
      "cell_type": "code",
      "execution_count": null,
      "metadata": {
        "id": "K7xMdSQhyVws"
      },
      "outputs": [],
      "source": [
        "questions= []\n",
        "for ques in question:\n",
        "  ques = clean_data(ques)\n",
        "  questions.append(remover(ques))\n"
      ]
    },
    {
      "cell_type": "code",
      "execution_count": null,
      "metadata": {
        "id": "TEvfUGPazmUQ"
      },
      "outputs": [],
      "source": [
        "print(questions[1:10])"
      ]
    },
    {
      "cell_type": "code",
      "execution_count": null,
      "metadata": {
        "id": "Ie9WfkwvyVuU"
      },
      "outputs": [],
      "source": [
        "cores = multiprocessing.cpu_count()\n",
        "print(cores)\n",
        "model1 = Word2Vec(window=5,min_count=4,workers = cores-1)\n",
        "print(model1)"
      ]
    },
    {
      "cell_type": "code",
      "execution_count": null,
      "metadata": {
        "id": "GF_OmFJFyVpt"
      },
      "outputs": [],
      "source": [
        "model1.build_vocab(questions,progress_per=10000)\n",
        "print(model1)\n",
        "model1.epochs"
      ]
    },
    {
      "cell_type": "code",
      "execution_count": null,
      "metadata": {
        "id": "570YggaTyVmt"
      },
      "outputs": [],
      "source": [
        "model1.train(questions,total_examples=model1.corpus_count,epochs=5)"
      ]
    },
    {
      "cell_type": "code",
      "execution_count": null,
      "metadata": {
        "id": "GKPNkYBazth5"
      },
      "outputs": [],
      "source": [
        "model1.wv.most_similar(\"bad\")"
      ]
    },
    {
      "cell_type": "code",
      "execution_count": null,
      "metadata": {
        "id": "AjkHLSMnz-WJ"
      },
      "outputs": [],
      "source": [
        "model1.wv.similarity(w1=\"bad\",w2=\"good\")"
      ]
    },
    {
      "cell_type": "code",
      "execution_count": null,
      "metadata": {
        "id": "rC34AUcq0hLP"
      },
      "outputs": [],
      "source": [
        "model1.wv.similarity(w1=\"bad\",w2=\"bad\")"
      ]
    },
    {
      "cell_type": "code",
      "execution_count": null,
      "metadata": {
        "id": "5JZJ962f0i3N"
      },
      "outputs": [],
      "source": [
        "model1.wv.similarity(w1=\"bad\",w2=\"horrible\")"
      ]
    },
    {
      "cell_type": "markdown",
      "metadata": {
        "id": "ADLhnygr3-jL"
      },
      "source": [
        "### Using in Built Preprocesser"
      ]
    },
    {
      "cell_type": "code",
      "execution_count": null,
      "metadata": {
        "id": "fZVJnV8z2nPH"
      },
      "outputs": [],
      "source": [
        "question2=[]\n",
        "for ques in question:\n",
        "  question2.append(gensim.utils.simple_preprocess(ques))"
      ]
    },
    {
      "cell_type": "code",
      "execution_count": null,
      "metadata": {
        "id": "lx9MUCr50mDe"
      },
      "outputs": [],
      "source": [
        "print(question2[1:10])"
      ]
    },
    {
      "cell_type": "code",
      "execution_count": null,
      "metadata": {
        "id": "ybXqwlKL24-u"
      },
      "outputs": [],
      "source": [
        "cores = multiprocessing.cpu_count()\n",
        "print(cores)\n",
        "model2 = Word2Vec(window=5,min_count=4,workers = cores-1)\n",
        "print(model2)"
      ]
    },
    {
      "cell_type": "code",
      "execution_count": null,
      "metadata": {
        "id": "y6AGhNl429T8"
      },
      "outputs": [],
      "source": [
        "model2.build_vocab(question2,progress_per=10000)\n",
        "print(model2)\n",
        "model2.epochs"
      ]
    },
    {
      "cell_type": "code",
      "execution_count": null,
      "metadata": {
        "id": "NLHAmv6d29Q_"
      },
      "outputs": [],
      "source": [
        "model2.train(question2,total_examples=model2.corpus_count,epochs=5)"
      ]
    },
    {
      "cell_type": "code",
      "execution_count": null,
      "metadata": {
        "id": "H3eGh2jD29ON"
      },
      "outputs": [],
      "source": [
        "model2.wv.most_similar(\"bad\")"
      ]
    },
    {
      "cell_type": "code",
      "execution_count": null,
      "metadata": {
        "id": "Hv2PiE-Z29LE"
      },
      "outputs": [],
      "source": [
        "model2.wv.similarity(w1=\"bad\",w2=\"good\")"
      ]
    },
    {
      "cell_type": "code",
      "execution_count": null,
      "metadata": {
        "id": "_KxlikEo29IY"
      },
      "outputs": [],
      "source": [
        "model2.wv.similarity(w1=\"bad\",w2=\"bad\")"
      ]
    },
    {
      "cell_type": "markdown",
      "metadata": {
        "id": "68PWxg4SlJwI"
      },
      "source": [
        "### **Using Skip-Gram**"
      ]
    },
    {
      "cell_type": "code",
      "execution_count": null,
      "metadata": {
        "id": "02shKh4N29Dv"
      },
      "outputs": [],
      "source": [
        "cores = multiprocessing.cpu_count()\n",
        "print(cores)\n",
        "model_sg = Word2Vec(window=5,min_count=4,workers = cores-1,sg=3)\n",
        "print(model_sg)"
      ]
    },
    {
      "cell_type": "code",
      "execution_count": null,
      "metadata": {
        "id": "jLLBFzb729BV"
      },
      "outputs": [],
      "source": [
        "model_sg.build_vocab(questions,progress_per=10000)\n",
        "print(model_sg)\n",
        "model_sg.epochs"
      ]
    },
    {
      "cell_type": "code",
      "execution_count": null,
      "metadata": {
        "id": "Abv1IWPo28-M"
      },
      "outputs": [],
      "source": [
        "model_sg.train(questions,total_examples=model_sg.corpus_count,epochs=4)"
      ]
    },
    {
      "cell_type": "code",
      "execution_count": null,
      "metadata": {
        "id": "fPCDrEvVlGIi"
      },
      "outputs": [],
      "source": [
        "model_sg.wv.most_similar(\"bad\")"
      ]
    },
    {
      "cell_type": "code",
      "execution_count": null,
      "metadata": {
        "id": "pXi8A4QdlGFt"
      },
      "outputs": [],
      "source": [
        "print(model_sg)"
      ]
    },
    {
      "cell_type": "code",
      "execution_count": null,
      "metadata": {
        "id": "Pk75BJt8oXGz"
      },
      "outputs": [],
      "source": [
        "model_sg.wv.most_similar(\"good\")"
      ]
    },
    {
      "cell_type": "markdown",
      "metadata": {
        "id": "H-snonCmwt4S"
      },
      "source": [
        "### Checking Similiarty"
      ]
    },
    {
      "cell_type": "code",
      "execution_count": null,
      "metadata": {
        "id": "sEIVAHQSEw0y"
      },
      "outputs": [],
      "source": [
        "def avg_feature_vector(sentence, model, num_features, index2word_set):\n",
        "    words = sentence.split()\n",
        "    feature_vec = np.zeros((num_features, ), dtype='float32')\n",
        "    n_words = 0\n",
        "    for word in words:\n",
        "        if word in index2word_set:\n",
        "            n_words += 1\n",
        "            feature_vec = np.add(feature_vec, model[word])\n",
        "    if (n_words > 0):\n",
        "        feature_vec = np.divide(feature_vec, n_words)\n",
        "    return feature_vec"
      ]
    },
    {
      "cell_type": "code",
      "execution_count": null,
      "metadata": {
        "id": "Y4Yp-7zgEwyP"
      },
      "outputs": [],
      "source": [
        "index2word_set = set(model_sg.wv.index2word) \n",
        "s1_afv = avg_feature_vector(df['question1'][0], model=model_sg, num_features=100, index2word_set=index2word_set)\n",
        "s2_afv = avg_feature_vector(df['question2'][0], model=model_sg, num_features=100, index2word_set=index2word_set)"
      ]
    },
    {
      "cell_type": "code",
      "execution_count": null,
      "metadata": {
        "id": "zIi2GtsAEwtW"
      },
      "outputs": [],
      "source": [
        "sim = 1 - spatial.distance.cosine(s1_afv, s2_afv)\n",
        "print(sim)"
      ]
    },
    {
      "cell_type": "code",
      "execution_count": null,
      "metadata": {
        "id": "HDxjBGuJEwld"
      },
      "outputs": [],
      "source": [
        "data = {}\n",
        "s1_afv = avg_feature_vector(df['question1'][0], model=model_sg, num_features=100, index2word_set=index2word_set)\n",
        "for j in df['question2']:\n",
        "  s2_afv = avg_feature_vector(j, model=model_sg, num_features=100, index2word_set=index2word_set)\n",
        "  sim = 1 - spatial.distance.cosine(s1_afv, s2_afv)\n",
        "  data[sim]=j"
      ]
    },
    {
      "cell_type": "code",
      "execution_count": null,
      "metadata": {
        "id": "CE9hylGLEwdn"
      },
      "outputs": [],
      "source": [
        "data"
      ]
    },
    {
      "cell_type": "code",
      "execution_count": null,
      "metadata": {
        "id": "FZJzMit5w5SX"
      },
      "outputs": [],
      "source": [
        ""
      ]
    },
    {
      "cell_type": "markdown",
      "source": [
        "# Bag of Word"
      ],
      "metadata": {
        "id": "xwKFMqDr10KG"
      }
    },
    {
      "cell_type": "code",
      "source": [
        "q1=df['question1']\n",
        "q2=df['question2']\n",
        "ques = np.concatenate((q1,q2),axis=0)\n",
        "print(len(ques))"
      ],
      "metadata": {
        "id": "Xvr5FvU_13oQ"
      },
      "execution_count": null,
      "outputs": []
    },
    {
      "cell_type": "code",
      "source": [
        "vectorizer2= CountVectorizer()\n",
        "vectorizer2.fit(ques)\n",
        "print(len(vectorizer2.vocabulary_))"
      ],
      "metadata": {
        "id": "hYy5HC1Q2N4h"
      },
      "execution_count": null,
      "outputs": []
    },
    {
      "cell_type": "code",
      "source": [
        "bow_vector = vectorizer2.transform(ques)\n",
        "print(bow_vector.shape)\n",
        "print(bow_vector[0])"
      ],
      "metadata": {
        "id": "q9RIHlcP2Q40"
      },
      "execution_count": null,
      "outputs": []
    },
    {
      "cell_type": "markdown",
      "source": [
        "## Xgboost"
      ],
      "metadata": {
        "id": "-wTMgh8svD9f"
      }
    },
    {
      "cell_type": "code",
      "source": [
        "count_vect = CountVectorizer(analyzer='word', token_pattern=r'\\w{1,}')\n",
        "count_vect.fit(pd.concat((df['question1'],df['question2'])).unique())\n",
        "trainq1_trans = count_vect.transform(df['question1'].values)\n",
        "trainq2_trans = count_vect.transform(df['question2'].values)\n",
        "labels = df['is_duplicate'].values\n",
        "X = scipy.sparse.hstack((trainq1_trans,trainq2_trans))\n",
        "y = labels\n",
        "X_train,X_valid,y_train,y_valid = train_test_split(X,y, test_size = 0.33, random_state = 42)\n",
        "\n",
        "xgb_model = xgb.XGBClassifier(n_estimators=80).fit(X_train, y_train) \n",
        "xgb_prediction = xgb_model.predict(X_valid)\n",
        "\n",
        "from sklearn.metrics import f1_score, classification_report, accuracy_score\n",
        "\n",
        "print('training score:', f1_score(y_train, xgb_model.predict(X_train), average='macro'))\n",
        "print('validation score:', f1_score(y_valid, xgb_model.predict(X_valid), average='macro'))\n",
        "print(classification_report(y_valid, xgb_prediction))"
      ],
      "metadata": {
        "id": "Ew1dMLFcq-ba",
        "colab": {
          "base_uri": "https://localhost:8080/"
        },
        "outputId": "93f3de26-903d-4afc-b339-055007384a66"
      },
      "execution_count": null,
      "outputs": [
        {
          "output_type": "stream",
          "name": "stdout",
          "text": [
            "training score: 0.5583329839621789\n",
            "validation score: 0.5573457026584304\n",
            "              precision    recall  f1-score   support\n",
            "\n",
            "           0       0.67      0.96      0.79     83975\n",
            "           1       0.77      0.20      0.32     49441\n",
            "\n",
            "    accuracy                           0.68    133416\n",
            "   macro avg       0.72      0.58      0.56    133416\n",
            "weighted avg       0.71      0.68      0.62    133416\n",
            "\n"
          ]
        }
      ]
    },
    {
      "cell_type": "code",
      "source": [
        "count_vect = CountVectorizer(analyzer='word', token_pattern=r'\\w{1,}')\n",
        "count_vect.fit(pd.concat((df['question1'],df['question2'])).unique())\n",
        "trainq1_trans = count_vect.transform(df['question1'].values)\n",
        "trainq2_trans = count_vect.transform(df['question2'].values)\n",
        "labels = df['is_duplicate'].values\n",
        "X = scipy.sparse.hstack((trainq1_trans,trainq2_trans))\n",
        "y = labels\n",
        "X_train,X_valid,y_train,y_valid = train_test_split(X,y, test_size = 0.33, random_state = 42)\n",
        "\n",
        "clf = RandomForestClassifier(n_estimators=80).fit(X_train,y_train)\n",
        "adb = clf.predict(X_valid)\n",
        "print('word level tf-idf validation score:', f1_score(y_valid, clf.predict(X_valid), average='macro'))"
      ],
      "metadata": {
        "id": "0_Iz-qFt2c_N",
        "colab": {
          "base_uri": "https://localhost:8080/"
        },
        "outputId": "376ba7a3-6a1e-444c-9175-941e0bbd7414"
      },
      "execution_count": null,
      "outputs": [
        {
          "output_type": "stream",
          "name": "stdout",
          "text": [
            "word level tf-idf validation score: 0.7822300988561282\n"
          ]
        }
      ]
    },
    {
      "cell_type": "code",
      "source": [
        "from sklearn.metrics import f1_score, classification_report, accuracy_score\n",
        "print(accuracy_score(y_valid,adb))\n",
        "print(classification_report(y_valid,adb))"
      ],
      "metadata": {
        "id": "9SySQ8opvQYg",
        "colab": {
          "base_uri": "https://localhost:8080/"
        },
        "outputId": "aa125dae-a2f3-493c-fde6-973727599c6a"
      },
      "execution_count": null,
      "outputs": [
        {
          "output_type": "stream",
          "name": "stdout",
          "text": [
            "0.8103300953408886\n",
            "              precision    recall  f1-score   support\n",
            "\n",
            "           0       0.80      0.93      0.86     83975\n",
            "           1       0.83      0.61      0.70     49441\n",
            "\n",
            "    accuracy                           0.81    133416\n",
            "   macro avg       0.82      0.77      0.78    133416\n",
            "weighted avg       0.81      0.81      0.80    133416\n",
            "\n"
          ]
        }
      ]
    },
    {
      "cell_type": "code",
      "source": [
        "Ada_model = AdaBoostClassifier(base_estimator=DecisionTreeClassifier(),n_estimators=80).fit(X_train, y_train) \n",
        "Ada_prediction = Ada_model.predict(X_valid)"
      ],
      "metadata": {
        "id": "pE_02M_3RoeV"
      },
      "execution_count": null,
      "outputs": []
    },
    {
      "cell_type": "code",
      "source": [
        "print(accuracy_score(y_valid,Ada_prediction))\n",
        "print(classification_report(y_valid,Ada_prediction))"
      ],
      "metadata": {
        "colab": {
          "base_uri": "https://localhost:8080/"
        },
        "id": "Jdhu15YCGvmh",
        "outputId": "2b05a1ba-da8b-48b3-d9be-a143ccae5de3"
      },
      "execution_count": null,
      "outputs": [
        {
          "output_type": "stream",
          "name": "stdout",
          "text": [
            "0.7627271091923008\n",
            "              precision    recall  f1-score   support\n",
            "\n",
            "           0       0.76      0.92      0.83     83975\n",
            "           1       0.79      0.49      0.61     49441\n",
            "\n",
            "    accuracy                           0.76    133416\n",
            "   macro avg       0.77      0.71      0.72    133416\n",
            "weighted avg       0.77      0.76      0.75    133416\n",
            "\n"
          ]
        }
      ]
    },
    {
      "cell_type": "code",
      "source": [
        ""
      ],
      "metadata": {
        "id": "YcUSrZS7Gysk"
      },
      "execution_count": null,
      "outputs": []
    }
  ],
  "metadata": {
    "colab": {
      "collapsed_sections": [
        "Fz7d6rMBZPE1",
        "dSw3WUDoy6ob",
        "ADLhnygr3-jL",
        "68PWxg4SlJwI",
        "H-snonCmwt4S"
      ],
      "name": "TF-IDF_Bag_of_words_and_Word2Vector.ipynb",
      "provenance": [],
      "mount_file_id": "12rpGZrEW-VkgRoezn6uZ6MmXpt8xgRpl",
      "authorship_tag": "ABX9TyM5eymmEdYtL1nmfaDRxCur",
      "include_colab_link": true
    },
    "kernelspec": {
      "display_name": "Python 3",
      "name": "python3"
    },
    "language_info": {
      "name": "python"
    }
  },
  "nbformat": 4,
  "nbformat_minor": 0
}